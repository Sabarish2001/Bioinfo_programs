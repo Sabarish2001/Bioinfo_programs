{
 "cells": [
  {
   "cell_type": "code",
   "execution_count": 1,
   "metadata": {},
   "outputs": [],
   "source": [
    "# Using Seq module(in the Biopython package) to use the functions\n",
    "# To use Seq module import the package first"
   ]
  },
  {
   "cell_type": "code",
   "execution_count": 2,
   "metadata": {},
   "outputs": [],
   "source": [
    "#  import Packagename.Module   or using    From Packagename.Module import *\n",
    "\n",
    "from Bio.Seq import *       # '*' refers to import all the functions which is present under the Seq Module"
   ]
  },
  {
   "cell_type": "code",
   "execution_count": 32,
   "metadata": {},
   "outputs": [],
   "source": [
    "#Sample Sequence\n",
    "\n",
    "sample_sequence = \"ATGCTTAGCATTTGGAATATACATTAG\""
   ]
  },
  {
   "cell_type": "code",
   "execution_count": 33,
   "metadata": {},
   "outputs": [
    {
     "data": {
      "text/plain": [
       "27"
      ]
     },
     "execution_count": 33,
     "metadata": {},
     "output_type": "execute_result"
    }
   ],
   "source": [
    "#Calculating length of sample_sequence\n",
    "\n",
    "seq_len = len(sample_sequence)\n",
    "seq_len"
   ]
  },
  {
   "cell_type": "code",
   "execution_count": null,
   "metadata": {},
   "outputs": [],
   "source": []
  },
  {
   "cell_type": "code",
   "execution_count": 6,
   "metadata": {},
   "outputs": [],
   "source": [
    "# Transcribing our sequence"
   ]
  },
  {
   "cell_type": "code",
   "execution_count": 7,
   "metadata": {},
   "outputs": [
    {
     "name": "stdout",
     "output_type": "stream",
     "text": [
      "AUGCUUAGCAUUUGGAAUAUACAUUAG\n"
     ]
    }
   ],
   "source": [
    "transcribe = Seq.transcribe(sample_sequence)\n",
    "print(transcribe)"
   ]
  },
  {
   "cell_type": "code",
   "execution_count": 8,
   "metadata": {},
   "outputs": [],
   "source": [
    "#Translate our above sequence to protein"
   ]
  },
  {
   "cell_type": "code",
   "execution_count": 9,
   "metadata": {},
   "outputs": [
    {
     "name": "stdout",
     "output_type": "stream",
     "text": [
      "MLSIWNIH*\n"
     ]
    }
   ],
   "source": [
    "translate = Seq.translate(transcribe)           # Length of sample is 24. Codon is a triplet \n",
    "print(translate)                                # So 24/3 = 8 AA\n"
   ]
  },
  {
   "cell_type": "code",
   "execution_count": 10,
   "metadata": {},
   "outputs": [],
   "source": [
    "# Converting (if) lower case letters of our nucleotide to upper\n",
    "# Will create a new sample sequence with lowercase nucleotides\n"
   ]
  },
  {
   "cell_type": "code",
   "execution_count": 11,
   "metadata": {},
   "outputs": [],
   "source": [
    "sample_seq2 = \"atgaatctcctaagggga\""
   ]
  },
  {
   "cell_type": "code",
   "execution_count": 12,
   "metadata": {},
   "outputs": [
    {
     "name": "stdout",
     "output_type": "stream",
     "text": [
      "ATGAATCTCCTAAGGGGA\n"
     ]
    }
   ],
   "source": [
    "#Converting lower case nucleotide alphabets to Upper\n",
    "\n",
    "convert_to_upcase = Seq.upper(sample_seq2)\n",
    "print(convert_to_upcase)"
   ]
  },
  {
   "cell_type": "code",
   "execution_count": 13,
   "metadata": {},
   "outputs": [
    {
     "name": "stdout",
     "output_type": "stream",
     "text": [
      "atgcttagcatttggaatatacattag\n"
     ]
    }
   ],
   "source": [
    "#Converting Upper case nucleotide symbols to lower\n",
    "\n",
    "convert_to_lowcase = Seq.lower(sample_sequence)\n",
    "print(convert_to_lowcase)"
   ]
  },
  {
   "cell_type": "code",
   "execution_count": 14,
   "metadata": {},
   "outputs": [],
   "source": [
    "#Removing the gaps from the sequence\n",
    "\n",
    "gapped_seq = \"ATG--CA-A-TAGAAC-TTA\""
   ]
  },
  {
   "cell_type": "code",
   "execution_count": 15,
   "metadata": {},
   "outputs": [
    {
     "name": "stdout",
     "output_type": "stream",
     "text": [
      "ATGCAATAGAACTTA\n"
     ]
    }
   ],
   "source": [
    "remove_gaps = Seq.ungap(gapped_seq)\n",
    "print(remove_gaps)"
   ]
  },
  {
   "cell_type": "code",
   "execution_count": null,
   "metadata": {},
   "outputs": [],
   "source": []
  },
  {
   "cell_type": "code",
   "execution_count": null,
   "metadata": {},
   "outputs": [],
   "source": []
  },
  {
   "cell_type": "code",
   "execution_count": 18,
   "metadata": {},
   "outputs": [
    {
     "data": {
      "text/plain": [
       "True"
      ]
     },
     "execution_count": 18,
     "metadata": {},
     "output_type": "execute_result"
    }
   ],
   "source": [
    "#Using startswith function to check AA Methionine is present at the start\n",
    "\n",
    "check_start_codon = Seq.startswith(transcribe,\"AUG\")\n",
    "check_start_codon"
   ]
  },
  {
   "cell_type": "code",
   "execution_count": 19,
   "metadata": {},
   "outputs": [
    {
     "data": {
      "text/plain": [
       "True"
      ]
     },
     "execution_count": 19,
     "metadata": {},
     "output_type": "execute_result"
    }
   ],
   "source": [
    "#Using endswith function to check Stop codon is present at the end of the mRNA(transcribe is the mRNA in this case)\n",
    "\n",
    "check_stop_codon = Seq.endswith(transcribe,\"UAG\")\n",
    "check_stop_codon"
   ]
  },
  {
   "cell_type": "code",
   "execution_count": null,
   "metadata": {},
   "outputs": [],
   "source": []
  },
  {
   "cell_type": "code",
   "execution_count": null,
   "metadata": {},
   "outputs": [],
   "source": []
  },
  {
   "cell_type": "code",
   "execution_count": 21,
   "metadata": {},
   "outputs": [
    {
     "name": "stdout",
     "output_type": "stream",
     "text": [
      "UACGAAUCGUAAACCUUAUAUGUAAUC\n"
     ]
    }
   ],
   "source": [
    "#Using complement_rna function to return the complementary sequence of RNA\n",
    "# It takes rna sequence as input and returns the complementary of it\n",
    "\n",
    "# A -> U and U-> A\n",
    "# G -> C and C-> G\n",
    "\n",
    "#If the input contains Nucleotide T in it, it returns a error DNA found\n",
    "complementary_rna = Seq.complement_rna(transcribe)\n",
    "print(complementary_rna)"
   ]
  },
  {
   "cell_type": "code",
   "execution_count": 65,
   "metadata": {},
   "outputs": [
    {
     "data": {
      "text/plain": [
       "Seq('TACGAATCGTAAACCTTATATGTAATC')"
      ]
     },
     "execution_count": 65,
     "metadata": {},
     "output_type": "execute_result"
    }
   ],
   "source": [
    "complement_seq = Seq(sample_sequence).complement()\n",
    "complement_seq"
   ]
  },
  {
   "cell_type": "code",
   "execution_count": 23,
   "metadata": {},
   "outputs": [
    {
     "name": "stdout",
     "output_type": "stream",
     "text": [
      "ATGCTGATG\n"
     ]
    }
   ],
   "source": [
    "mRNA_DNA = Seq(\"AUGCUGAUG\").back_transcribe()\n",
    "print(mRNA_DNA)"
   ]
  },
  {
   "cell_type": "code",
   "execution_count": 24,
   "metadata": {},
   "outputs": [],
   "source": [
    "protein = \"MLK*KLPM\""
   ]
  },
  {
   "cell_type": "code",
   "execution_count": 25,
   "metadata": {},
   "outputs": [],
   "source": [
    "splitt = Seq.split(protein,sep=\"L\")"
   ]
  },
  {
   "cell_type": "code",
   "execution_count": 26,
   "metadata": {},
   "outputs": [
    {
     "name": "stdout",
     "output_type": "stream",
     "text": [
      "[Seq('M'), Seq('K*K'), Seq('PM')]\n"
     ]
    }
   ],
   "source": [
    "print(splitt)"
   ]
  },
  {
   "cell_type": "code",
   "execution_count": 27,
   "metadata": {},
   "outputs": [
    {
     "data": {
      "text/plain": [
       "'ATGCTTAGCATTTGGAATATACATTAG'"
      ]
     },
     "execution_count": 27,
     "metadata": {},
     "output_type": "execute_result"
    }
   ],
   "source": [
    "sample_sequence"
   ]
  },
  {
   "cell_type": "code",
   "execution_count": 28,
   "metadata": {},
   "outputs": [
    {
     "name": "stdout",
     "output_type": "stream",
     "text": [
      "ATGCGGGATC         \n"
     ]
    }
   ],
   "source": [
    "sample1 = \"ATGCGGGATC         \"\n",
    "print(Seq.rstrip(sample1))"
   ]
  },
  {
   "cell_type": "code",
   "execution_count": 29,
   "metadata": {},
   "outputs": [
    {
     "data": {
      "text/plain": [
       "'ATGCGGGATC         '"
      ]
     },
     "execution_count": 29,
     "metadata": {},
     "output_type": "execute_result"
    }
   ],
   "source": [
    "sample1"
   ]
  },
  {
   "cell_type": "code",
   "execution_count": 38,
   "metadata": {},
   "outputs": [
    {
     "data": {
      "text/plain": [
       "-1"
      ]
     },
     "execution_count": 38,
     "metadata": {},
     "output_type": "execute_result"
    }
   ],
   "source": [
    "find_r = Seq.rfind(sample_sequence,\"ACT\")\n",
    "find_r"
   ]
  },
  {
   "cell_type": "code",
   "execution_count": null,
   "metadata": {},
   "outputs": [],
   "source": []
  },
  {
   "cell_type": "code",
   "execution_count": 105,
   "metadata": {},
   "outputs": [],
   "source": [
    "main_string = \"ATGCATGGGCAGTACAGT\"\n",
    "sub_string = \"AAAAAAA\"\n",
    "find_substring = Seq.find(main_string,sub_string,start=6,end=len(main_string))"
   ]
  },
  {
   "cell_type": "code",
   "execution_count": 106,
   "metadata": {},
   "outputs": [
    {
     "data": {
      "text/plain": [
       "-1"
      ]
     },
     "execution_count": 106,
     "metadata": {},
     "output_type": "execute_result"
    }
   ],
   "source": [
    "find_substring"
   ]
  },
  {
   "cell_type": "code",
   "execution_count": null,
   "metadata": {},
   "outputs": [],
   "source": []
  },
  {
   "cell_type": "code",
   "execution_count": 61,
   "metadata": {},
   "outputs": [
    {
     "name": "stdout",
     "output_type": "stream",
     "text": [
      "GATGCATGC\n"
     ]
    }
   ],
   "source": [
    "sample_1 = \"ATG\"\n",
    "sample_2 = \"GCC\"\n",
    "print(Seq.join(sample_1,sample_2))"
   ]
  },
  {
   "cell_type": "code",
   "execution_count": null,
   "metadata": {},
   "outputs": [],
   "source": []
  },
  {
   "cell_type": "code",
   "execution_count": 81,
   "metadata": {},
   "outputs": [],
   "source": [
    "# Function (reverse_complement) returns the reverse complementary sequence of a given input sequence.\n",
    "# It takes the input sequence and takes a complement of it and then reverse it and returns the sequence\n",
    "\n",
    "\"\"\"example: \n",
    "            seq1 = ATG\n",
    "            complement = TAC\n",
    "            reverse = CAT\"\"\"\n",
    "\n",
    "find_rcomplement = Seq.reverse_complement(Seq(sample_sequence))"
   ]
  },
  {
   "cell_type": "code",
   "execution_count": 82,
   "metadata": {},
   "outputs": [
    {
     "data": {
      "text/plain": [
       "Seq('CTAATGTATATTCCAAATGCTAAGCAT')"
      ]
     },
     "execution_count": 82,
     "metadata": {},
     "output_type": "execute_result"
    }
   ],
   "source": [
    "find_rcomplement"
   ]
  },
  {
   "cell_type": "code",
   "execution_count": 99,
   "metadata": {},
   "outputs": [
    {
     "name": "stdout",
     "output_type": "stream",
     "text": [
      "ATGGTC\n"
     ]
    }
   ],
   "source": [
    "my_seq = Seq(\"-ATGGTC-\")\n",
    "print(Seq.strip(my_seq,\"-\"))"
   ]
  },
  {
   "cell_type": "code",
   "execution_count": null,
   "metadata": {},
   "outputs": [],
   "source": []
  },
  {
   "cell_type": "code",
   "execution_count": 112,
   "metadata": {},
   "outputs": [
    {
     "data": {
      "text/plain": [
       "True"
      ]
     },
     "execution_count": 112,
     "metadata": {},
     "output_type": "execute_result"
    }
   ],
   "source": [
    "string = \"AAAAAAATTTTTTTT\"\n",
    "Seq.count_overlap(string,sub=\"A\") == Seq.count(string,sub=\"A\")"
   ]
  },
  {
   "cell_type": "code",
   "execution_count": null,
   "metadata": {},
   "outputs": [],
   "source": []
  },
  {
   "cell_type": "code",
   "execution_count": null,
   "metadata": {},
   "outputs": [],
   "source": []
  }
 ],
 "metadata": {
  "kernelspec": {
   "display_name": "Python 3",
   "language": "python",
   "name": "python3"
  },
  "language_info": {
   "codemirror_mode": {
    "name": "ipython",
    "version": 3
   },
   "file_extension": ".py",
   "mimetype": "text/x-python",
   "name": "python",
   "nbconvert_exporter": "python",
   "pygments_lexer": "ipython3",
   "version": "3.8.5"
  }
 },
 "nbformat": 4,
 "nbformat_minor": 4
}
